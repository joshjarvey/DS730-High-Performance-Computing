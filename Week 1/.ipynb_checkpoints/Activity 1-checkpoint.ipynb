{
 "cells": [
  {
   "cell_type": "markdown",
   "id": "corresponding-lawsuit",
   "metadata": {},
   "source": [
    "# Problem 1"
   ]
  },
  {
   "cell_type": "code",
   "execution_count": 1,
   "id": "arctic-thunder",
   "metadata": {},
   "outputs": [],
   "source": [
    "def factorial(val):\n",
    "    if val > 0:\n",
    "        total = 1\n",
    "        for i in range(1,val + 1):\n",
    "            total = total * i\n",
    "        return total\n",
    "    else:\n",
    "        return -1"
   ]
  },
  {
   "cell_type": "markdown",
   "id": "martial-indiana",
   "metadata": {},
   "source": [
    "# Problem 2"
   ]
  },
  {
   "cell_type": "code",
   "execution_count": 2,
   "id": "romance-client",
   "metadata": {},
   "outputs": [
    {
     "name": "stdout",
     "output_type": "stream",
     "text": [
      "3.0\n"
     ]
    }
   ],
   "source": [
    "with open(\"C:/Users/joshj/Documents/DS730-High-Performance-Computing/Week 1/numbers.txt\") as file:\n",
    "    lines = file.readlines()\n",
    "\n",
    "    #split the number by space.\n",
    "lines = lines[0].split(\" \")\n",
    "    \n",
    "    #init the sum counter.\n",
    "sum = 0\n",
    "\n",
    "    #add all the numbers together.\n",
    "for num in lines:\n",
    "    sum = sum + int(num)\n",
    "\n",
    "    #print the average.\n",
    "print(sum/len(lines))"
   ]
  },
  {
   "cell_type": "markdown",
   "id": "competent-circumstances",
   "metadata": {},
   "source": [
    "# Problem 3"
   ]
  },
  {
   "cell_type": "code",
   "execution_count": 3,
   "id": "wound-supplier",
   "metadata": {},
   "outputs": [
    {
     "name": "stdout",
     "output_type": "stream",
     "text": [
      "[5, 7, 11, 13, 17, 19, 23]\n"
     ]
    }
   ],
   "source": [
    "with open(\"C:/Users/joshj/Documents/DS730-High-Performance-Computing/Week 1/primes.txt\") as file:\n",
    "    lines = file.readlines()\n",
    "    \n",
    "    #split numbers by space.\n",
    "lines = lines[0].split(\" \")\n",
    "\n",
    "    #determine which number is the begin and end for range.\n",
    "if int(lines[0]) < int(lines[1]):\n",
    "    begin = int(lines[0])\n",
    "    end = int(lines[1])\n",
    "else:\n",
    "    begin = int(lines[1])\n",
    "    end = int(lines[0])\n",
    "\n",
    "    #create the list of numbers\n",
    "primes = list(range(begin,end+1))\n",
    "\n",
    "    #for each number, check if its divisible by any other number. If so, then remove from list and move onto next number.\n",
    "for num in range(begin, end+1):\n",
    "    for divisor in range(2,num):\n",
    "        if num % divisor == 0:\n",
    "            primes.remove(num)\n",
    "            break\n",
    "\n",
    "if len(primes) == 0:\n",
    "    print(\"No Primes\")\n",
    "else:\n",
    "    print(primes)"
   ]
  },
  {
   "cell_type": "code",
   "execution_count": 4,
   "id": "signed-packaging",
   "metadata": {},
   "outputs": [
    {
     "data": {
      "text/plain": [
       "'5:7:11:13:17:19:23:'"
      ]
     },
     "execution_count": 4,
     "metadata": {},
     "output_type": "execute_result"
    }
   ],
   "source": [
    "output = \"\"\n",
    "for i in range(0,len(primes)):\n",
    "    output = output + str(primes[i]) + \":\"\n",
    "\n",
    "output\n"
   ]
  },
  {
   "cell_type": "code",
   "execution_count": 5,
   "id": "nearby-prior",
   "metadata": {},
   "outputs": [
    {
     "data": {
      "text/plain": [
       "'7:11!13&'"
      ]
     },
     "execution_count": 5,
     "metadata": {},
     "output_type": "execute_result"
    }
   ],
   "source": [
    "output = \"\"\n",
    "counter = 1\n",
    "for i, num in enumerate(primes,1):\n",
    "    if i == 1:\n",
    "        output = output + str(primes[i]) + \":\"\n",
    "    elif i == 2:\n",
    "        output = output + str(primes[i]) + \"!\"\n",
    "    elif i == 3:\n",
    "        output = output + str(primes[i]) + \"&\"\n",
    "\n",
    "        \n",
    "output"
   ]
  },
  {
   "cell_type": "markdown",
   "id": "social-panel",
   "metadata": {},
   "source": [
    "# Problem 4"
   ]
  },
  {
   "cell_type": "code",
   "execution_count": 6,
   "id": "prime-worthy",
   "metadata": {},
   "outputs": [
    {
     "data": {
      "text/html": [
       "<div>\n",
       "<style scoped>\n",
       "    .dataframe tbody tr th:only-of-type {\n",
       "        vertical-align: middle;\n",
       "    }\n",
       "\n",
       "    .dataframe tbody tr th {\n",
       "        vertical-align: top;\n",
       "    }\n",
       "\n",
       "    .dataframe thead th {\n",
       "        text-align: right;\n",
       "    }\n",
       "</style>\n",
       "<table border=\"1\" class=\"dataframe\">\n",
       "  <thead>\n",
       "    <tr style=\"text-align: right;\">\n",
       "      <th></th>\n",
       "      <th>Year</th>\n",
       "      <th>Month</th>\n",
       "      <th>Day</th>\n",
       "      <th>TimeCST</th>\n",
       "      <th>TemperatureF</th>\n",
       "      <th>Wind SpeedMPH</th>\n",
       "      <th>City</th>\n",
       "    </tr>\n",
       "  </thead>\n",
       "  <tbody>\n",
       "    <tr>\n",
       "      <th>0</th>\n",
       "      <td>2000</td>\n",
       "      <td>1</td>\n",
       "      <td>1</td>\n",
       "      <td>12:53 AM</td>\n",
       "      <td>35.996</td>\n",
       "      <td>11.5</td>\n",
       "      <td>ABC</td>\n",
       "    </tr>\n",
       "    <tr>\n",
       "      <th>1</th>\n",
       "      <td>2000</td>\n",
       "      <td>1</td>\n",
       "      <td>1</td>\n",
       "      <td>1:53 AM</td>\n",
       "      <td>37.004</td>\n",
       "      <td>6.9</td>\n",
       "      <td>ABC</td>\n",
       "    </tr>\n",
       "    <tr>\n",
       "      <th>2</th>\n",
       "      <td>2000</td>\n",
       "      <td>1</td>\n",
       "      <td>1</td>\n",
       "      <td>2:53 AM</td>\n",
       "      <td>35.996</td>\n",
       "      <td>5.8</td>\n",
       "      <td>ABC</td>\n",
       "    </tr>\n",
       "    <tr>\n",
       "      <th>3</th>\n",
       "      <td>2000</td>\n",
       "      <td>1</td>\n",
       "      <td>1</td>\n",
       "      <td>3:53 AM</td>\n",
       "      <td>33.998</td>\n",
       "      <td>Calm</td>\n",
       "      <td>ABC</td>\n",
       "    </tr>\n",
       "    <tr>\n",
       "      <th>4</th>\n",
       "      <td>2000</td>\n",
       "      <td>1</td>\n",
       "      <td>1</td>\n",
       "      <td>4:53 AM</td>\n",
       "      <td>28.904</td>\n",
       "      <td>Calm</td>\n",
       "      <td>ABC</td>\n",
       "    </tr>\n",
       "  </tbody>\n",
       "</table>\n",
       "</div>"
      ],
      "text/plain": [
       "   Year  Month  Day   TimeCST  TemperatureF Wind SpeedMPH City\n",
       "0  2000      1    1  12:53 AM        35.996          11.5  ABC\n",
       "1  2000      1    1   1:53 AM        37.004           6.9  ABC\n",
       "2  2000      1    1   2:53 AM        35.996           5.8  ABC\n",
       "3  2000      1    1   3:53 AM        33.998          Calm  ABC\n",
       "4  2000      1    1   4:53 AM        28.904          Calm  ABC"
      ]
     },
     "execution_count": 6,
     "metadata": {},
     "output_type": "execute_result"
    }
   ],
   "source": [
    "import pandas as pd\n",
    "weather = pd.concat(map(pd.read_csv,[\"C:/Users/joshj/Documents/DS730-High-Performance-Computing/Week 1/Weather/ABCWeather.csv\"\n",
    "                                        ,\"C:/Users/joshj/Documents/DS730-High-Performance-Computing/Week 1/Weather/KLMWeather.csv\"\n",
    "                                        ,\"C:/Users/joshj/Documents/DS730-High-Performance-Computing/Week 1/Weather/PQRWeather.csv\"\n",
    "                                        ,\"C:/Users/joshj/Documents/DS730-High-Performance-Computing/Week 1/Weather/XYZWeather.csv\"]))\n",
    "\n",
    "weather.head()"
   ]
  },
  {
   "cell_type": "code",
   "execution_count": 7,
   "id": "small-north",
   "metadata": {},
   "outputs": [],
   "source": [
    "import numpy as np\n",
    "    #change any wind speeds from \"calm\" to 0.\n",
    "    #change wind speeds to numeric.\n",
    "    #change any wind speeds below 0 to NaN.\n",
    "weather['Wind SpeedMPH'] = weather['Wind SpeedMPH'].replace(['Calm'],\"0\")\n",
    "weather['Wind SpeedMPH'] = pd.to_numeric(weather['Wind SpeedMPH'])\n",
    "weather.loc[weather['Wind SpeedMPH'] < 0, 'Wind SpeedMPH'] = np.nan\n",
    "\n",
    "    #change any temps less than -200 to NaN.\n",
    "weather.loc[weather['TemperatureF'] <= -200, 'TemperatureF'] = np.nan"
   ]
  },
  {
   "cell_type": "code",
   "execution_count": 8,
   "id": "handy-arcade",
   "metadata": {},
   "outputs": [
    {
     "data": {
      "text/plain": [
       "City\n",
       "ABC    9.035556\n",
       "KLM    9.035513\n",
       "PQR    8.303386\n",
       "XYZ    8.270142\n",
       "Name: Wind SpeedMPH, dtype: float64"
      ]
     },
     "execution_count": 8,
     "metadata": {},
     "output_type": "execute_result"
    }
   ],
   "source": [
    "    #first locate all the rows where the year = 2006 and the month = 3 (i.e. march)\n",
    "    #next do a .groupby() function and group it by city.\n",
    "    #finally, we want the average wind speed for those cities. \n",
    "weather.loc[(weather[\"Year\"] == 2006) & (weather[\"Month\"] == 3)].groupby(\"City\")[\"Wind SpeedMPH\"].mean()"
   ]
  },
  {
   "cell_type": "code",
   "execution_count": 9,
   "id": "prospective-initial",
   "metadata": {},
   "outputs": [
    {
     "data": {
      "text/plain": [
       "City\n",
       "ABC    52.252008\n",
       "KLM    49.648439\n",
       "PQR    52.251981\n",
       "XYZ    48.063079\n",
       "Name: TemperatureF, dtype: float64"
      ]
     },
     "execution_count": 9,
     "metadata": {},
     "output_type": "execute_result"
    }
   ],
   "source": [
    "    #first locate all the rows where the year = 2006\n",
    "    #next do a .groupby() function and group it by city.\n",
    "    #finally, we want the average temperature for those cities. \n",
    "weather.loc[(weather[\"Year\"] == 2006)].groupby(\"City\")[\"TemperatureF\"].mean()"
   ]
  }
 ],
 "metadata": {
  "kernelspec": {
   "display_name": "Python 3",
   "language": "python",
   "name": "python3"
  },
  "language_info": {
   "codemirror_mode": {
    "name": "ipython",
    "version": 3
   },
   "file_extension": ".py",
   "mimetype": "text/x-python",
   "name": "python",
   "nbconvert_exporter": "python",
   "pygments_lexer": "ipython3",
   "version": "3.7.9"
  }
 },
 "nbformat": 4,
 "nbformat_minor": 5
}
